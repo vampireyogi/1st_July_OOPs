{
 "cells": [
  {
   "cell_type": "markdown",
   "id": "96ef58dd",
   "metadata": {},
   "source": [
    "1. What is the primary goal of Object-Oriented Programming (OOP)?\n",
    "- The primary goal of Object-Oriented Programming (OOP) is to model real-world problems using classes and objects that have data and functions."
   ]
  },
  {
   "cell_type": "markdown",
   "id": "d8988a23",
   "metadata": {},
   "source": [
    "2. What is an object in Python?\n",
    "- An object in Python is a collection of data and methods that represent a real-world entity or concept."
   ]
  },
  {
   "cell_type": "markdown",
   "id": "4e55e2f2",
   "metadata": {},
   "source": [
    "3. What is a class in Python\n",
    "- A class in Python is a user-defined blueprint or prototype from which objects are created."
   ]
  },
  {
   "cell_type": "markdown",
   "id": "24d44c3c",
   "metadata": {},
   "source": [
    "4. What are attributes and methods in a class?\n",
    "- Attributes and methods are variables and functions defined in the class"
   ]
  },
  {
   "cell_type": "markdown",
   "id": "de6f18fb",
   "metadata": {},
   "source": [
    "5. What is the difference between class variables and instance variables in Python?\n",
    "- Class variables are variables that are shared by all instances of a class, while instance variables are variables that are unique to each instance of a class"
   ]
  },
  {
   "cell_type": "code",
   "execution_count": 1,
   "id": "3fc303e5",
   "metadata": {},
   "outputs": [],
   "source": [
    "# example\n",
    "class Yogesh:\n",
    "    gender = \"male\"     # class variable\n",
    "\n",
    "    def __init__(self, name, age):   # instance variables\n",
    "        self.name = name\n",
    "        self.age = age\n"
   ]
  },
  {
   "cell_type": "markdown",
   "id": "5bf62a53",
   "metadata": {},
   "source": [
    "6. What is the purpose of the self parameter in Python class methods?\n",
    "- The self parameter can be thought of as a placeholder. self parameter in Python class methods is a way to refer to the instance of the class that is currently being used."
   ]
  },
  {
   "cell_type": "markdown",
   "id": "940217ee",
   "metadata": {},
   "source": [
    "7. For a library management system, you have to design the \"Book\" class with OOP\n",
    "principles in mind. The “Book” class will have following attributes:\n",
    "<ul>\n",
    "- a. title: Represents the title of the book.\n",
    "- b. author: Represents the author(s) of the book.\n",
    "- c. isbn: Represents the ISBN (International Standard Book Number) of the book.\n",
    "- d. publication_year: Represents the year of publication of the book.\n",
    "- e. available_copies: Represents the number of copies available for checkout.</ul>\n",
    "\n",
    "The class will also include the following methods:<ul>\n",
    "- a. check_out(self): Decrements the available copies by one if there are copies\n",
    "available for checkout.\n",
    "- b. return_book(self): Increments the available copies by one when a book is\n",
    "returned.\n",
    "- c. display_book_info(self): Displays the information about the book, including its\n",
    "attributes and the number of available copies.</ul>"
   ]
  },
  {
   "cell_type": "code",
   "execution_count": 64,
   "id": "1b26924a",
   "metadata": {},
   "outputs": [],
   "source": [
    "class Book():\n",
    "    \n",
    "    def __init__(self,title,author,isbn,publication_year,available_copies=10):\n",
    "        self.title=title\n",
    "        self.isbn=isbn\n",
    "        self.publication_year=publication_year\n",
    "        self.available_copies=available_copies\n",
    "        \n",
    "    def check_out(self):\n",
    "        if self.available_copies>=1:\n",
    "            self.available_copies-=1\n",
    "            print(\"Checkout complete \")\n",
    "        else :\n",
    "            print(\"No copies availabe\")\n",
    "    \n",
    "    def return_book(self):\n",
    "            self.available_copies+=1\n",
    "            \n",
    "    def display_book_info(self):\n",
    "        print(f\"Book name:{self.title},ISBN:{self.isbn},published in:{self.publication_year} and {self.available_copies} copies available.\")\n",
    "        "
   ]
  },
  {
   "cell_type": "code",
   "execution_count": 65,
   "id": "48a116d7",
   "metadata": {},
   "outputs": [],
   "source": [
    "book=Book(\"Rich Dad Poor Dad\",\"Robert Kiyosaki\",\"9781612680194\",\"1997\",)"
   ]
  },
  {
   "cell_type": "code",
   "execution_count": 66,
   "id": "d28429bc",
   "metadata": {},
   "outputs": [
    {
     "name": "stdout",
     "output_type": "stream",
     "text": [
      "Checkout complete \n",
      "Checkout complete \n",
      "Book name:Rich Dad Poor Dad,ISBN:9781612680194,published in:1997 and 9 copies available.\n"
     ]
    }
   ],
   "source": [
    "book.check_out()\n",
    "book.check_out()\n",
    "book.return_book()\n",
    "book.display_book_info()"
   ]
  },
  {
   "cell_type": "markdown",
   "id": "6771eb56",
   "metadata": {},
   "source": [
    "8. For a ticket booking system, you have to design the \"Ticket\" class with OOP\n",
    "principles in mind. The “Ticket” class should have the following attributes:\n",
    "<ul>\n",
    "- a. ticket_id: Represents the unique identifier for the ticket.\n",
    "- b. event_name: Represents the name of the event.\n",
    "- c. event_date: Represents the date of the event.\n",
    "- d. venue: Represents the venue of the event.\n",
    "- e. seat_number: Represents the seat number associated with the ticket.\n",
    "- f. price: Represents the price of the ticket.\n",
    "- g. is_reserved: Represents the reservation status of the ticket.</ul>\n",
    "The class also includes the following methods:<ul>\n",
    "- a. reserve_ticket(self): Marks the ticket as reserved if it is not already reserved.\n",
    "- b. cancel_reservation(self): Cancels the reservation of the ticket if it is already\n",
    "reserved.\n",
    "- c. display_ticket_info(self): Displays the information about the ticket, including its\n",
    "attributes and reservation status.</ul>\n"
   ]
  },
  {
   "cell_type": "code",
   "execution_count": 84,
   "id": "4f748a1e",
   "metadata": {},
   "outputs": [],
   "source": [
    "class Ticket():\n",
    "    def __init__(self,ticket_id,event_name,event_date,venue,seat_number,price,is_reserved=\"Not Reserved\"):\n",
    "        self.ticket_id=ticket_id\n",
    "        self.event_name=event_name\n",
    "        self.event_date=event_date\n",
    "        self.venue=venue\n",
    "        self.seat_number=seat_number\n",
    "        self.price=price\n",
    "        self.is_reserved=is_reserved\n",
    "        \n",
    "    def reserve_ticket(self):\n",
    "            if self.is_reserved==\"Not Reserved\":\n",
    "                self.is_reserved=\"Reserved\"\n",
    "                print(\"Reserved\")\n",
    "            else:\n",
    "                print(\"Ticket is already reserved\")\n",
    "            \n",
    "    def cancel_reservation(self):\n",
    "            if self.is_reserved==\"Reserved\":\n",
    "                self.is_reserved=\"Not Reserved\"\n",
    "                print(\"Reservation cancels\")\n",
    "            else:\n",
    "                print(\"Ticket is not reserved\")\n",
    "                \n",
    "    def display_ticket_info(self):\n",
    "            print(f\"Ticket id:{self.ticket_id}, Event name:{self.event_name},\")\n",
    "            print(f\"Event date:{self.event_date}, Venue of event:{self.venue},\")\n",
    "            print(f\"Seat num is:{self.seat_number}, Price of ticket is:{self.price},\")\n",
    "            print(f\"Your ticket is {self.is_reserved}\")"
   ]
  },
  {
   "cell_type": "code",
   "execution_count": 85,
   "id": "c9359b07",
   "metadata": {},
   "outputs": [],
   "source": [
    "ticket=Ticket(\"ECN0804\",\"Soccer Match\",\"Feb 24 Monday\",\"Ipsum Stadium\",\"G7S23\",\"$28\")"
   ]
  },
  {
   "cell_type": "code",
   "execution_count": 86,
   "id": "85e8a2ca",
   "metadata": {},
   "outputs": [
    {
     "name": "stdout",
     "output_type": "stream",
     "text": [
      "Reserved\n",
      "Reservation cancels\n",
      "Ticket id:ECN0804, Event name:Soccer Match,\n",
      "Event date:Feb 24 Monday, Venue of event:Ipsum Stadium,\n",
      "Seat num is:G7S23, Price of ticket is:$28,\n",
      "Your ticket is Not Reserved\n"
     ]
    }
   ],
   "source": [
    "ticket.reserve_ticket()\n",
    "ticket.cancel_reservation()\n",
    "ticket.display_ticket_info()"
   ]
  },
  {
   "cell_type": "markdown",
   "id": "84190ca4",
   "metadata": {},
   "source": [
    "9. You are creating a shopping cart for an e-commerce website. Using OOP to model\n",
    "the \"ShoppingCart\" functionality the class should contain following attributes and\n",
    "methods:<ul>\n",
    "- a. items: Represents the list of items in the shopping cart.</ul>\n",
    "The class also includes the following methods:<ul>\n",
    "- a. add_item(self, item): Adds an item to the shopping cart by appending it to the\n",
    "list of items.\n",
    "- b. remove_item(self, item): Removes an item from the shopping cart if it exists in\n",
    "the list.\n",
    "- c. view_cart(self): Displays the items currently present in the shopping cart.\n",
    "- d. clear_cart(self): Clears all items from the shopping cart by reassigning an\n",
    "empty list to the items attribute.</ul>"
   ]
  },
  {
   "cell_type": "code",
   "execution_count": 110,
   "id": "372a6afe",
   "metadata": {},
   "outputs": [],
   "source": [
    "class ShoppingCart():\n",
    "    \n",
    "    def __init__(self):\n",
    "        self.items=[]\n",
    "    \n",
    "    def  add_item(self,item):\n",
    "        self.items.append(item)\n",
    "    \n",
    "    def remove_item(self,item):\n",
    "        if item in self.items:\n",
    "            self.items.remove(item)\n",
    "            print(f\"{item} removed from shopping cart\")\n",
    "        else:\n",
    "            print(f\"{item} is not in shopping cart\")\n",
    "    \n",
    "    def view_cart(self):\n",
    "        print(\"Item left in Shopping cart\")\n",
    "        for i in self.items:\n",
    "            print(i)\n",
    "            \n",
    "    def clear_cart(self):\n",
    "        self.items=[]\n",
    "        print(\"Empty list assigned\")"
   ]
  },
  {
   "cell_type": "code",
   "execution_count": 111,
   "id": "2bb049e4",
   "metadata": {},
   "outputs": [],
   "source": [
    "cart=ShoppingCart()"
   ]
  },
  {
   "cell_type": "code",
   "execution_count": 112,
   "id": "7a044194",
   "metadata": {},
   "outputs": [],
   "source": [
    "cart.add_item(\"T-shirt\")\n",
    "cart.add_item(\"Cap\")\n",
    "cart.add_item(\"Shorts\")\n",
    "cart.add_item(\"Shoes\")\n",
    "cart.add_item(\"Track Pants\")"
   ]
  },
  {
   "cell_type": "code",
   "execution_count": 113,
   "id": "503d5aba",
   "metadata": {},
   "outputs": [
    {
     "name": "stdout",
     "output_type": "stream",
     "text": [
      "Cap removed from shopping cart\n"
     ]
    }
   ],
   "source": [
    "cart.remove_item(\"Cap\")"
   ]
  },
  {
   "cell_type": "code",
   "execution_count": 114,
   "id": "59337ec1",
   "metadata": {},
   "outputs": [
    {
     "name": "stdout",
     "output_type": "stream",
     "text": [
      "Item left in Shopping cart\n",
      "T-shirt\n",
      "Shorts\n",
      "Shoes\n",
      "Track Pants\n"
     ]
    }
   ],
   "source": [
    "cart.view_cart()"
   ]
  },
  {
   "cell_type": "code",
   "execution_count": 115,
   "id": "2087b7f6",
   "metadata": {},
   "outputs": [
    {
     "name": "stdout",
     "output_type": "stream",
     "text": [
      "Empty list assigned\n"
     ]
    }
   ],
   "source": [
    "cart.clear_cart()"
   ]
  },
  {
   "cell_type": "markdown",
   "id": "91d33197",
   "metadata": {},
   "source": [
    "10. Imagine a school management system. You have to design the \"Student\" class using\n",
    "OOP concepts.The “Student” class has the following attributes:<ul>\n",
    "- a. name: Represents the name of the student.\n",
    "- b. age: Represents the age of the student.\n",
    "- c. grade: Represents the grade or class of the student.\n",
    "- d. student_id: Represents the unique identifier for the student.\n",
    "- e. attendance: Represents the attendance record of the student.</ul>\n",
    "The class should also include the following methods:<ul>\n",
    "- a. update_attendance(self, date, status): Updates the attendance record of the\n",
    "student for a given date with the provided status (e.g., present or absent).\n",
    "- b. get_attendance(self): Returns the attendance record of the student.\n",
    "- c. get_average_attendance(self): Calculates and returns the average\n",
    "attendance percentage of the student based on their attendance record.</ul>"
   ]
  },
  {
   "cell_type": "code",
   "execution_count": 159,
   "id": "429b1a8b",
   "metadata": {},
   "outputs": [],
   "source": [
    "class Student():\n",
    "    \n",
    "    def __init__(self,name,age,grade,student_id):\n",
    "        self.name=name\n",
    "        self.age=age\n",
    "        self.grade=grade\n",
    "        self.student_id=student_id\n",
    "        self.attendance={}\n",
    "        \n",
    "    def update_attendance(self,date,status):\n",
    "        self.attendance[date]=status\n",
    "        \n",
    "    def get_attendance(self):\n",
    "        return self.attendance\n",
    "    \n",
    "    def get_average_attendance(self):\n",
    "        days=len(self.attendance)\n",
    "        p_days=0\n",
    "        for date,status in self.attendance.items():\n",
    "            if status==\"present\":\n",
    "                p_days+=1\n",
    "        av_attendance=int((p_days/days)*100)\n",
    "        print(f\"Average attendance of {self.name} is {av_attendance} percent\")"
   ]
  },
  {
   "cell_type": "code",
   "execution_count": 160,
   "id": "fb7ded55",
   "metadata": {},
   "outputs": [],
   "source": [
    "student=Student(\"Yukti\",\"15 years\",\"10th\",\"2581\")"
   ]
  },
  {
   "cell_type": "code",
   "execution_count": 161,
   "id": "1c52b370",
   "metadata": {},
   "outputs": [],
   "source": [
    "student.update_attendance(\"1st July\",\"present\")\n",
    "student.update_attendance(\"2nd July\",\"present\")\n",
    "student.update_attendance(\"3rd July\",\"absent\")\n",
    "student.update_attendance(\"4th July\",\"absent\")\n",
    "student.update_attendance(\"5th July\",\"present\")\n",
    "student.update_attendance(\"6th July\",\"present\")"
   ]
  },
  {
   "cell_type": "code",
   "execution_count": 162,
   "id": "dbf228c9",
   "metadata": {},
   "outputs": [
    {
     "data": {
      "text/plain": [
       "{'1st July': 'present',\n",
       " '2nd July': 'present',\n",
       " '3rd July': 'absent',\n",
       " '4th July': 'absent',\n",
       " '5th July': 'present',\n",
       " '6th July': 'present'}"
      ]
     },
     "execution_count": 162,
     "metadata": {},
     "output_type": "execute_result"
    }
   ],
   "source": [
    "student.get_attendance()"
   ]
  },
  {
   "cell_type": "code",
   "execution_count": 163,
   "id": "d35b1bd2",
   "metadata": {},
   "outputs": [
    {
     "name": "stdout",
     "output_type": "stream",
     "text": [
      "Average attendance of Yukti is 66 percent\n"
     ]
    }
   ],
   "source": [
    "student.get_average_attendance()"
   ]
  },
  {
   "cell_type": "code",
   "execution_count": null,
   "id": "b4f5d772",
   "metadata": {},
   "outputs": [],
   "source": []
  }
 ],
 "metadata": {
  "kernelspec": {
   "display_name": "Python 3 (ipykernel)",
   "language": "python",
   "name": "python3"
  },
  "language_info": {
   "codemirror_mode": {
    "name": "ipython",
    "version": 3
   },
   "file_extension": ".py",
   "mimetype": "text/x-python",
   "name": "python",
   "nbconvert_exporter": "python",
   "pygments_lexer": "ipython3",
   "version": "3.11.3"
  }
 },
 "nbformat": 4,
 "nbformat_minor": 5
}
